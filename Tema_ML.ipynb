{
 "cells": [
  {
   "cell_type": "markdown",
   "metadata": {
    "id": "WWAWmzG4insq"
   },
   "source": [
    "Tema ML Etapa 1"
   ]
  },
  {
   "cell_type": "code",
   "execution_count": null,
   "metadata": {
    "colab": {
     "base_uri": "https://localhost:8080/"
    },
    "id": "jCrA0YLLlVav",
    "outputId": "f76a1199-1bb9-44e2-8d98-a25087c603e6"
   },
   "outputs": [],
   "source": [
    "!pip install sktime\n",
    "!pip install pyts\n",
    "!pip install seaborn\n",
    "!pip install tsfresh\n",
    "!pip install xgboost"
   ]
  },
  {
   "cell_type": "code",
   "execution_count": null,
   "metadata": {
    "id": "x3AuU_Csf1w2"
   },
   "outputs": [],
   "source": [
    "import zipfile\n",
    "import pandas as pd\n",
    "import os\n",
    "\n",
    "import sktime\n",
    "from sktime.datasets import load_from_tsfile\n",
    "from sklearn.model_selection import train_test_split\n",
    "from sklearn.ensemble import RandomForestClassifier\n",
    "from sklearn.metrics import classification_report, confusion_matrix, accuracy_score\n",
    "from sklearn.preprocessing import LabelEncoder\n",
    "from scipy.interpolate import interp1d\n",
    "from sklearn.preprocessing import StandardScaler\n",
    "from sklearn.svm import SVC\n",
    "from sklearn.model_selection import GridSearchCV\n",
    "from sklearn.metrics import make_scorer\n",
    "from sklearn.ensemble import GradientBoostingClassifier\n",
    "\n",
    "import numpy as np\n",
    "import matplotlib.pyplot as plt\n",
    "import seaborn as sns\n",
    "\n",
    "import xgboost as xgb\n",
    "from xgboost import XGBClassifier\n",
    "\n",
    "from tsfresh import extract_features\n",
    "from tsfresh.utilities.dataframe_functions import make_forecasting_frame\n",
    "import scipy.stats as stats\n",
    "from scipy.stats import skew, kurtosis, iqr"
   ]
  },
  {
   "cell_type": "code",
   "execution_count": null,
   "metadata": {
    "colab": {
     "base_uri": "https://localhost:8080/",
     "height": 347
    },
    "id": "9ZUvmp53jgbO",
    "outputId": "ce7f94e3-1892-496a-e2c2-d732612bb241"
   },
   "outputs": [],
   "source": [
    "# Dezarhivez setul de date Racket\n",
    "with zipfile.ZipFile('RacketSports.zip', 'r') as zip_ref:\n",
    "    zip_ref.extractall('RacketSports')\n",
    "\n",
    "# Dezarhivez setul de date ECG\n",
    "with zipfile.ZipFile('ECG.zip', 'r') as zip_ref:\n",
    "    zip_ref.extractall('ECG')"
   ]
  },
  {
   "cell_type": "markdown",
   "metadata": {
    "id": "yxZS1VyaiteJ"
   },
   "source": [
    "Crearea seturilor de date"
   ]
  },
  {
   "cell_type": "code",
   "execution_count": null,
   "metadata": {
    "id": "SxVwhAuzjwzm"
   },
   "outputs": [],
   "source": [
    "# Racket\n",
    "# Incarcă setul de date de antrenare\n",
    "racket_train_x, racket_train_y = load_from_tsfile(\"RacketSports/RacketSports_TRAIN.ts\")\n",
    "\n",
    "# Incarcă setul de date de test\n",
    "racket_test_x, racket_test_y = load_from_tsfile(\"RacketSports/RacketSports_TEST.ts\")\n",
    "\n",
    "# Convert to NumPy array\n",
    "racket_train_x = np.array(racket_train_x)\n",
    "racket_train_y = np.array(racket_train_y)\n",
    "racket_test_x = np.array(racket_test_x)\n",
    "racket_test_y = np.array(racket_test_y)\n",
    "\n",
    "# Mitbih\n",
    "# Incarcă setul de date de antrenare\n",
    "train_data = pd.read_csv(\"ECG/mitbih_train.csv\", header=None)\n",
    "mitbih_train_x = train_data.iloc[:, :-1]\n",
    "mitbih_train_y = train_data.iloc[:, -1]\n",
    "\n",
    "# Incarcă setul de date de test\n",
    "test_data = pd.read_csv(\"ECG/mitbih_test.csv\", header=None)\n",
    "mitbih_test_x = test_data.iloc[:, :-1]\n",
    "mitbih_test_y = test_data.iloc[:, -1]\n",
    "\n",
    "# Ptbdb\n",
    "# Incarcă setul de date normal\n",
    "data_set_normal = pd.read_csv(\"ECG/ptbdb_normal.csv\", header=None)\n",
    "x_normal = data_set_normal.iloc[:, :-1]\n",
    "y_normal = data_set_normal.iloc[:, -1]\n",
    "\n",
    "# Incarcă setul de date de anormal\n",
    "data_set_anormal = pd.read_csv(\"ECG/ptbdb_abnormal.csv\", header=None)\n",
    "x_anormal = data_set_anormal.iloc[:, :-1]\n",
    "y_anormal = data_set_anormal.iloc[:, -1]\n",
    "\n",
    "# Concatenăm seturile de date de antrenare și testare\n",
    "x_pdb = pd.concat([x_normal, x_anormal])\n",
    "y_pdb = pd.concat([y_normal, y_anormal])\n",
    "\n",
    "# Impărțim seturile de date în seturi de antrenare și testare\n",
    "x_pdb_train, x_pdb_test, y_pdb_train, y_pdb_test = train_test_split(x_pdb, y_pdb, test_size=0.3, random_state=42)"
   ]
  },
  {
   "cell_type": "markdown",
   "metadata": {
    "id": "It-h9eWJi068"
   },
   "source": [
    "3.1.1"
   ]
  },
  {
   "cell_type": "code",
   "execution_count": null,
   "metadata": {
    "id": "phaBOE0jDC2f"
   },
   "outputs": [],
   "source": [
    "# Racket\n",
    "# Definim un dataframe din setul de date de antrenare\n",
    "racket_train_df = pd.DataFrame(racket_train_y, columns=[\"label\"])\n",
    "\n",
    "# Definim un dataframe din setul de date de test\n",
    "racket_test_df = pd.DataFrame(racket_test_y, columns=[\"label\"])\n",
    "\n",
    "# Creăm două axe separate\n",
    "fig, (ax1, ax2) = plt.subplots(ncols=2, figsize=(25, 6))\n",
    "\n",
    "# Afișăm graficul frecvenței de apariție a fiecărei etichete în setul de date de antrenare\n",
    "sns.countplot(x=\"label\", data=racket_train_df, ax=ax1)\n",
    "ax1.set_title(\"Frecvența de apariție a fiecărei etichete în setul de antrenare - Racket\")\n",
    "\n",
    "# Afișăm graficul frecvenței de apariție a fiecărei etichete în setul de date de test\n",
    "sns.countplot(x=\"label\", data=racket_test_df, ax=ax2)\n",
    "ax2.set_title(\"Frecvența de apariție a fiecărei etichete în setul de testare - Racket\")\n",
    "\n",
    "plt.show()"
   ]
  },
  {
   "cell_type": "code",
   "execution_count": null,
   "metadata": {
    "id": "lqksOfgBJ0Ws"
   },
   "outputs": [],
   "source": [
    "# Mitbih\n",
    "# Crearea unui dataframe cu datele de antrenare\n",
    "train_df = pd.concat([mitbih_train_x, mitbih_train_y], axis=1)\n",
    "train_df.columns = [f\"feat_{i}\" for i in range(187)] + [\"label\"]\n",
    "\n",
    "# Crearea unui dataframe cu datele de test\n",
    "test_df = pd.concat([mitbih_test_x, mitbih_test_y], axis=1)\n",
    "test_df.columns = [f\"feat_{i}\" for i in range(187)] + [\"label\"]\n",
    "\n",
    "# Creăm două axe separate\n",
    "fig, (ax1, ax2) = plt.subplots(ncols=2, figsize=(15, 6))\n",
    "\n",
    "# Afișăm graficul frecvenței de apariție a fiecărei etichete în setul de date de antrenare\n",
    "sns.countplot(data=train_df, x=\"label\", ax=ax1)\n",
    "ax1.set_title(\"Frecvența de apariție a fiecărei etichete în setul de antrenare - Mitbih\")\n",
    "\n",
    "# Afișăm graficul frecvenței de apariție a fiecărei etichete în setul de date de test\n",
    "sns.countplot(data=test_df, x=\"label\", ax=ax2)\n",
    "ax2.set_title(\"Frecvența de apariție a fiecărei etichete în setul de testare - Mitbih\")\n",
    "\n",
    "# Crearea unui countplot pentru datele de antrenare\n",
    "plt.show()"
   ]
  },
  {
   "cell_type": "code",
   "execution_count": null,
   "metadata": {
    "id": "IdvWNMW3BRug"
   },
   "outputs": [],
   "source": [
    "# Ptdbd\n",
    "# Crearea unui dataframe cu datele de antrenare\n",
    "train_df = pd.concat([x_pdb_train, y_pdb_train], axis=1)\n",
    "train_df.columns = [f\"feat_{i}\" for i in range(187)] + [\"label\"]\n",
    "\n",
    "# Crearea unui dataframe cu datele de test\n",
    "test_df = pd.concat([x_pdb_test, y_pdb_test], axis=1)\n",
    "test_df.columns = [f\"feat_{i}\" for i in range(187)] + [\"label\"]\n",
    "\n",
    "# Creăm două axe separate\n",
    "fig, (ax1, ax2) = plt.subplots(ncols=2, figsize=(15, 6))\n",
    "\n",
    "# Afișăm graficul frecvenței de apariție a fiecărei etichete în setul de date de antrenare\n",
    "sns.countplot(data=train_df, x=\"label\", ax=ax1)\n",
    "ax1.set_title(\"Frecvența de apariție a fiecărei etichete în setul de antrenare - Ptdbd\")\n",
    "\n",
    "# Afișăm graficul frecvenței de apariție a fiecărei etichete în setul de date de test\n",
    "sns.countplot(data=test_df, x=\"label\", ax=ax2)\n",
    "ax2.set_title(\"Frecvența de apariție a fiecărei etichete în setul de testare - Ptdbd\")\n",
    "\n",
    "# Crearea unui countplot pentru datele de antrenare\n",
    "plt.show()"
   ]
  },
  {
   "cell_type": "markdown",
   "metadata": {
    "id": "z2bQxqljjAri"
   },
   "source": [
    "3.1.2.1"
   ]
  },
  {
   "cell_type": "code",
   "execution_count": null,
   "metadata": {
    "id": "Bv8yeZ0K3coa"
   },
   "outputs": [],
   "source": [
    "# Identificăm un exemplu de serie pentru fiecare tip de acțiune\n",
    "unique_actions = np.unique(racket_train_y)\n",
    "example_indices = [np.where(racket_train_y == action)[0][0] for action in unique_actions]\n",
    "\n",
    "# Afișăm graficele pentru fiecare acțiune\n",
    "for i, example_idx in enumerate(example_indices):\n",
    "    action = racket_train_y[example_idx]\n",
    "    example_series = racket_train_x[example_idx]\n",
    "\n",
    "    # a) Afișăm valorile de accelerometru pe dimensiunile x, y și z pe același grafic\n",
    "    plt.figure(figsize=(12, 4))\n",
    "    plt.title(f\"Acțiunea {action}: Valorile accelerometrului\")\n",
    "    plt.plot(example_series[0], label=\"Accelerometru X\")\n",
    "    plt.plot(example_series[1], label=\"Accelerometru Y\")\n",
    "    plt.plot(example_series[2], label=\"Accelerometru Z\")\n",
    "    plt.legend()\n",
    "    plt.show()\n",
    "\n",
    "    # b) Afișăm valorile de giroscop pe dimensiunile x, y și z pe același grafic\n",
    "    plt.figure(figsize=(12, 4))\n",
    "    plt.title(f\"Acțiunea {action}: Valorile giroscopului\")\n",
    "    plt.plot(example_series[3], label=\"Giroscop X\")\n",
    "    plt.plot(example_series[4], label=\"Giroscop Y\")\n",
    "    plt.plot(example_series[5], label=\"Giroscop Z\")\n",
    "    plt.legend()\n",
    "    plt.show()"
   ]
  },
  {
   "cell_type": "markdown",
   "metadata": {
    "id": "abAHVLrLjDCc"
   },
   "source": [
    "3.1.2.2"
   ]
  },
  {
   "cell_type": "code",
   "execution_count": null,
   "metadata": {
    "id": "m6qKK9ppbnsD"
   },
   "outputs": [],
   "source": [
    "# Mitbih\n",
    "# Luam actiunile unice din setul de training\n",
    "mitbih_train_classes = np.unique(mitbih_train_y)\n",
    "\n",
    "# Afisam câte un exemplu de serie pentru fiecare categorie de aritmie\n",
    "for c in mitbih_train_classes:\n",
    "    index = np.where(mitbih_train_y == c)[0][0]\n",
    "    plt.plot(mitbih_train_x.iloc[index])\n",
    "    plt.title(f\"Clasa {int(c)}\")\n",
    "    plt.show()"
   ]
  },
  {
   "cell_type": "code",
   "execution_count": null,
   "metadata": {
    "id": "yDKCS3yBdDah"
   },
   "outputs": [],
   "source": [
    "# Ptdbd\n",
    "# Luam actiunile unice din setul de training\n",
    "mitbih_train_classes = np.unique(y_pdb_train)\n",
    "\n",
    "# Afisam câte un exemplu de serie pentru fiecare categorie de aritmie\n",
    "for c in mitbih_train_classes:\n",
    "    index = np.where(y_pdb_train == c)[0][0]\n",
    "    plt.plot(x_pdb_train.iloc[index])\n",
    "    plt.title(f\"Clasa {int(c)}\")\n",
    "    plt.show()"
   ]
  },
  {
   "cell_type": "markdown",
   "metadata": {
    "id": "rblZeo5WjYWb"
   },
   "source": [
    "3.1.2.3"
   ]
  },
  {
   "cell_type": "code",
   "execution_count": null,
   "metadata": {
    "id": "EqRna4d3jaDM"
   },
   "outputs": [],
   "source": [
    "# Mitbih\n",
    "# Combinați seturile de date de antrenament și testare\n",
    "mitbih_x = pd.concat([mitbih_train_x, mitbih_test_x])\n",
    "mitbih_y = pd.concat([mitbih_train_y, mitbih_test_y])\n",
    "\n",
    "# Calculează media și deviația standard pentru fiecare clasă de aritmie\n",
    "classes = np.unique(mitbih_y)\n",
    "means = []\n",
    "stds = []\n",
    "for c in classes:\n",
    "    c_data = mitbih_x[mitbih_y == c]\n",
    "    c_mean = np.mean(c_data, axis=0)\n",
    "    c_std = np.std(c_data, axis=0)\n",
    "    means.append(c_mean)\n",
    "    stds.append(c_std)\n",
    "\n",
    "# Afișați graficul mediei și deviației standard per unitate de timp pentru fiecare clasă de aritmie\n",
    "for i in range(len(classes)):\n",
    "    plt.plot(means[i], label=f\"{classes[i]} mean\")\n",
    "    plt.plot(stds[i], label=f\"{classes[i]} std\")\n",
    "plt.legend()\n",
    "plt.title(\"Media și deviația standard per unitate de timp pentru fiecare clasă de aritmie - Mitbih\")\n",
    "plt.show()"
   ]
  },
  {
   "cell_type": "code",
   "execution_count": null,
   "metadata": {
    "id": "FsLSom0ikc-3"
   },
   "outputs": [],
   "source": [
    "# Ptdbd\n",
    "# Combinați seturile de date de antrenament și testare\n",
    "pdb_x = pd.concat([x_pdb_train, x_pdb_test])\n",
    "pdb_y = pd.concat([y_pdb_train, y_pdb_test])\n",
    "\n",
    "# Calculează media și deviația standard pentru fiecare clasă de aritmie\n",
    "classes = np.unique(pdb_y)\n",
    "means = []\n",
    "stds = []\n",
    "for c in classes:\n",
    "    c_data = pdb_x[pdb_y == c]\n",
    "    c_mean = np.mean(c_data, axis=0)\n",
    "    c_std = np.std(c_data, axis=0)\n",
    "    means.append(c_mean)\n",
    "    stds.append(c_std)\n",
    "\n",
    "# Afișați graficul mediei și deviației standard per unitate de timp pentru fiecare clasă de aritmie\n",
    "for i in range(len(classes)):\n",
    "    plt.plot(means[i], label=f\"{classes[i]} mean\")\n",
    "    plt.plot(stds[i], label=f\"{classes[i]} std\")\n",
    "plt.legend()\n",
    "plt.title(\"Media și deviația standard per unitate de timp pentru fiecare clasă de aritmie - Ptdbd\")\n",
    "plt.show()"
   ]
  },
  {
   "cell_type": "markdown",
   "metadata": {
    "id": "RCD7fbsYlgwI"
   },
   "source": [
    "3.1.2.4"
   ]
  },
  {
   "cell_type": "code",
   "execution_count": null,
   "metadata": {
    "id": "J1nmDS9Ilk0N"
   },
   "outputs": [],
   "source": [
    "# Creăm un DataFrame cu coloanele corespunzătoare\n",
    "columns = [\"Action\", \"Sensor\", \"Axis\", \"Value\"]\n",
    "data = []\n",
    "\n",
    "for i, series in enumerate(racket_train_x):\n",
    "    action = racket_train_y[i]\n",
    "    for sensor_idx, sensor_name in enumerate([\"Accelerometru\", \"Giroscop\"]):\n",
    "        for axis_idx, axis_name in enumerate([\"X\", \"Y\", \"Z\"]):\n",
    "            values = series[sensor_idx * 3 + axis_idx]\n",
    "            for value in values:\n",
    "                data.append([action, sensor_name, axis_name, value])\n",
    "\n",
    "df = pd.DataFrame(data, columns=columns)\n",
    "\n",
    "# Afișăm distribuția valorilor per axă și acțiune\n",
    "sns.set(style=\"whitegrid\")\n",
    "g = sns.catplot(x=\"Action\", y=\"Value\", hue=\"Axis\", col=\"Sensor\",\n",
    "                data=df, kind=\"box\", height=6, aspect=1.5)\n",
    "g.fig.subplots_adjust(top=0.85)\n",
    "g.fig.suptitle(\"Distribuția valorilor per axă de accelerometru și giroscop în parte / per acțiune\")\n",
    "plt.show()"
   ]
  },
  {
   "cell_type": "markdown",
   "metadata": {
    "id": "q8zsNHG-3I7g"
   },
   "source": [
    "3.2.1"
   ]
  },
  {
   "cell_type": "markdown",
   "metadata": {
    "id": "uwpAxcbe5QvW"
   },
   "source": [
    "RandomForest"
   ]
  },
  {
   "cell_type": "code",
   "execution_count": null,
   "metadata": {
    "id": "0gHi4oTM4_oA"
   },
   "outputs": [],
   "source": [
    "# Racket\n",
    "def resize_series(series, new_length):\n",
    "    old_length = len(series[0])\n",
    "    x_old = np.linspace(0, 1, old_length)\n",
    "    x_new = np.linspace(0, 1, new_length)\n",
    "    resized_series = []\n",
    "\n",
    "    for feature in series:\n",
    "        interpolator = interp1d(x_old, feature, kind='linear')\n",
    "        resized_series.append(interpolator(x_new))\n",
    "\n",
    "    return np.array(resized_series)\n",
    "\n",
    "def prepare_data(train_x, train_y, test_x, test_y, new_length=100):\n",
    "    train_x = [resize_series(series, new_length).flatten() for series in train_x]\n",
    "    test_x = [resize_series(series, new_length).flatten() for series in test_x]\n",
    "    return np.array(train_x), np.array(train_y), np.array(test_x), np.array(test_y)"
   ]
  },
  {
   "cell_type": "code",
   "execution_count": null,
   "metadata": {
    "id": "CHVmdprB3WD9"
   },
   "outputs": [],
   "source": [
    "# Racket\n",
    "# Pregătirea setului de date\n",
    "train_x, train_y, test_x, test_y = prepare_data(racket_train_x, racket_train_y, racket_test_x, racket_test_y)\n",
    "\n",
    "# Antrenarea modelului RandomForest\n",
    "rf_model = RandomForestClassifier(random_state=42)\n",
    "rf_model.fit(train_x, train_y)\n",
    "\n",
    "# Evaluarea modelului pe setul de test\n",
    "test_preds = rf_model.predict(test_x)\n",
    "accuracy = accuracy_score(test_y, test_preds)\n",
    "report = classification_report(test_y, test_preds)\n",
    "\n",
    "print(f\"Accuracy: {accuracy}\")\n",
    "print(\"Classification Report:\")\n",
    "print(report)"
   ]
  },
  {
   "cell_type": "code",
   "execution_count": null,
   "metadata": {
    "colab": {
     "base_uri": "https://localhost:8080/"
    },
    "id": "0tJ8_zrxNJKq",
    "outputId": "f5b7f0fc-db1b-43c4-8a90-7cbb76725cf0"
   },
   "outputs": [],
   "source": [
    "# Racket-hiperparametrii\n",
    "# Pregătirea setului de date\n",
    "train_x, train_y, test_x, test_y = prepare_data(racket_train_x, racket_train_y, racket_test_x, racket_test_y, new_length=100)\n",
    "\n",
    "# Definirea hiper-parametrilor pentru RandomForest\n",
    "param_grid_rf = {\n",
    "    'n_estimators': [10, 50, 100, 200],\n",
    "    'max_depth': [None, 10, 20, 30],\n",
    "    'max_features': ['auto', 'sqrt', 'log2']\n",
    "}\n",
    "\n",
    "# Crearea modelului RandomForest\n",
    "rf_model = RandomForestClassifier(random_state=42)\n",
    "\n",
    "# Grid Search cu Cross Validation pentru a găsi cei mai buni hiper-parametri\n",
    "grid_search_rf = GridSearchCV(rf_model, param_grid_rf, cv=5, scoring='accuracy', n_jobs=-1)\n",
    "grid_search_rf.fit(train_x, train_y)\n",
    "\n",
    "# Afișarea celor mai buni hiper-parametri găsiți\n",
    "print(\"Cei mai buni hiper-parametri pentru RandomForest (RacketSports):\")\n",
    "print(grid_search_rf.best_params_)\n",
    "\n",
    "# Evaluarea modelului cu cei mai buni hiper-parametri pe setul de test\n",
    "best_rf_model = grid_search_rf.best_estimator_\n",
    "test_preds_best_rf = best_rf_model.predict(test_x)\n",
    "accuracy_best_rf = accuracy_score(test_y, test_preds_best_rf)\n",
    "report_best_rf = classification_report(test_y, test_preds_best_rf)\n",
    "\n",
    "print(f\"Accuracy cu cei mai buni hiper-parametri RandomForest (RacketSports): {accuracy_best_rf}\")\n",
    "print(\"Classification Report cu cei mai buni hiper-parametri RandomForest (RacketSports):\")\n",
    "print(report_best_rf)"
   ]
  },
  {
   "cell_type": "code",
   "execution_count": null,
   "metadata": {
    "colab": {
     "base_uri": "https://localhost:8080/"
    },
    "id": "xePMSkqP5p1i",
    "outputId": "049d0e39-e099-41fc-85f9-c804460bae2b"
   },
   "outputs": [],
   "source": [
    "# Mitbih\n",
    "# Antrenarea modelului RandomForest\n",
    "rf_model_mitbih = RandomForestClassifier(random_state=42)\n",
    "rf_model_mitbih.fit(mitbih_train_x, mitbih_train_y)\n",
    "\n",
    "# Evaluarea modelului pe setul de test\n",
    "mitbih_test_preds = rf_model_mitbih.predict(mitbih_test_x)\n",
    "mitbih_accuracy = accuracy_score(mitbih_test_y, mitbih_test_preds)\n",
    "mitbih_report = classification_report(mitbih_test_y, mitbih_test_preds)\n",
    "\n",
    "print(f\"MITBIH Accuracy: {mitbih_accuracy}\")\n",
    "print(\"MITBIH Classification Report:\")\n",
    "print(mitbih_report)"
   ]
  },
  {
   "cell_type": "code",
   "execution_count": null,
   "metadata": {
    "colab": {
     "base_uri": "https://localhost:8080/",
     "height": 381
    },
    "id": "XCrnw2bHNjc9",
    "outputId": "666c27c9-ccef-453d-b426-3e319f9548af"
   },
   "outputs": [],
   "source": [
    "# Mitbih-hiperparametrii\n",
    "# Definirea hiper-parametrilor pentru RandomForest\n",
    "param_grid_rf = {\n",
    "    'n_estimators': [10, 50, 100, 200],\n",
    "    'max_depth': [None, 10, 20, 30],\n",
    "    'max_features': ['auto', 'sqrt', 'log2']\n",
    "}\n",
    "\n",
    "# Crearea modelului RandomForest\n",
    "rf_model = RandomForestClassifier(random_state=42)\n",
    "\n",
    "# Grid Search cu Cross Validation pentru a găsi cei mai buni hiper-parametri\n",
    "grid_search_rf = GridSearchCV(rf_model, param_grid_rf, cv=5, scoring='accuracy', n_jobs=-1)\n",
    "grid_search_rf.fit(mitbih_train_x, mitbih_train_y)\n",
    "\n",
    "# Afișarea celor mai buni hiper-parametri găsiți\n",
    "print(\"Cei mai buni hiper-parametri pentru RandomForest (MITBIH):\")\n",
    "print(grid_search_rf.best_params_)\n",
    "\n",
    "# Evaluarea modelului cu cei mai buni hiper-parametri pe setul de test\n",
    "best_rf_model = grid_search_rf.best_estimator_\n",
    "test_preds_best_rf = best_rf_model.predict(mitbih_test_x)\n",
    "accuracy_best_rf = accuracy_score(mitbih_test_y, test_preds_best_rf)\n",
    "report_best_rf = classification_report(mitbih_test_y, test_preds_best_rf)\n",
    "\n",
    "print(f\"Accuracy cu cei mai buni hiper-parametri RandomForest (MITBIH): {accuracy_best_rf}\")\n",
    "print(\"Classification Report cu cei mai buni hiper-parametri RandomForest (MITBIH):\")\n",
    "print(report_best_rf)"
   ]
  },
  {
   "cell_type": "code",
   "execution_count": null,
   "metadata": {
    "colab": {
     "base_uri": "https://localhost:8080/"
    },
    "id": "4-lsVvcb6-7I",
    "outputId": "2095d236-228d-4e4f-8f26-19858e526d79"
   },
   "outputs": [],
   "source": [
    "# Ptdbd\n",
    "# Antrenarea modelului RandomForest\n",
    "rf_model_ptbdb = RandomForestClassifier(random_state=42)\n",
    "rf_model_ptbdb.fit(x_pdb_train, y_pdb_train)\n",
    "\n",
    "# Evaluarea modelului pe setul de test\n",
    "ptbdb_test_preds = rf_model_ptbdb.predict(x_pdb_test)\n",
    "ptbdb_accuracy = accuracy_score(y_pdb_test, ptbdb_test_preds)\n",
    "ptbdb_report = classification_report(y_pdb_test, ptbdb_test_preds)\n",
    "\n",
    "print(f\"PTBDB Accuracy: {ptbdb_accuracy}\")\n",
    "print(\"PTBDB Classification Report:\")\n",
    "print(ptbdb_report)"
   ]
  },
  {
   "cell_type": "code",
   "execution_count": null,
   "metadata": {
    "colab": {
     "base_uri": "https://localhost:8080/",
     "height": 381
    },
    "id": "7-x52544Pbiz",
    "outputId": "c2423974-31e5-441a-bd49-ce35faba4a0d"
   },
   "outputs": [],
   "source": [
    "# Ptdbd-hiperparametrii\n",
    "# Definirea hiper-parametrilor pentru RandomForest\n",
    "param_grid_rf = {\n",
    "    'n_estimators': [10, 50, 100, 200],\n",
    "    'max_depth': [None, 10, 20, 30],\n",
    "    'max_features': ['auto', 'sqrt', 'log2']\n",
    "}\n",
    "\n",
    "# Crearea modelului RandomForest\n",
    "rf_model = RandomForestClassifier(random_state=42)\n",
    "\n",
    "# Grid Search cu Cross Validation pentru a găsi cei mai buni hiper-parametri\n",
    "grid_search_rf = GridSearchCV(rf_model, param_grid_rf, cv=5, scoring='accuracy', n_jobs=-1)\n",
    "grid_search_rf.fit(x_pdb_train, y_pdb_train)\n",
    "\n",
    "# Afișarea celor mai buni hiper-parametri găsiți\n",
    "print(\"Cei mai buni hiper-parametri pentru RandomForest (PTBDB):\")\n",
    "print(grid_search_rf.best_params_)\n",
    "\n",
    "# Evaluarea modelului cu cei mai buni hiper-parametri pe setul de test\n",
    "best_rf_model = grid_search_rf.best_estimator_\n",
    "test_preds_best_rf = best_rf_model.predict(x_pdb_test)\n",
    "accuracy_best_rf = accuracy_score(y_pdb_test, test_preds_best_rf)\n",
    "report_best_rf = classification_report(y_pdb_test, test_preds_best_rf)\n",
    "\n",
    "print(f\"Accuracy cu cei mai buni hiper-parametri RandomForest (PTBDB): {accuracy_best_rf}\")\n",
    "print(\"Classification Report cu cei mai buni hiper-parametri RandomForest (PTBDB):\")\n",
    "print(report_best_rf)"
   ]
  },
  {
   "cell_type": "markdown",
   "metadata": {
    "id": "V6u5-ndP8ppX"
   },
   "source": [
    "GradientBoosted Trees"
   ]
  },
  {
   "cell_type": "code",
   "execution_count": null,
   "metadata": {
    "colab": {
     "base_uri": "https://localhost:8080/"
    },
    "id": "emi1Sx9r8s0m",
    "outputId": "292a1ca5-b18f-4bba-93e5-f0ba6d3509bd"
   },
   "outputs": [],
   "source": [
    "# Racket\n",
    "# Pregătirea setului de date\n",
    "train_x, train_y, test_x, test_y = prepare_data(racket_train_x, racket_train_y, racket_test_x, racket_test_y, new_length=100)\n",
    "\n",
    "# Codificarea etichetelor ca numere întregi\n",
    "label_encoder = LabelEncoder()\n",
    "train_y_encoded = label_encoder.fit_transform(train_y)\n",
    "test_y_encoded = label_encoder.transform(test_y)\n",
    "\n",
    "# Antrenarea modelului XGBoost\n",
    "xgb_model = xgb.XGBClassifier(random_state=42)\n",
    "xgb_model.fit(train_x, train_y_encoded)\n",
    "\n",
    "# Evaluarea modelului pe setul de test\n",
    "test_preds_xgb = xgb_model.predict(test_x)\n",
    "accuracy_xgb = accuracy_score(test_y_encoded, test_preds_xgb)\n",
    "report_xgb = classification_report(test_y_encoded, test_preds_xgb)\n",
    "\n",
    "print(f\"XGBoost Accuracy: {accuracy_xgb}\")\n",
    "print(\"XGBoost Classification Report:\")\n",
    "print(report_xgb)"
   ]
  },
  {
   "cell_type": "code",
   "execution_count": null,
   "metadata": {
    "colab": {
     "base_uri": "https://localhost:8080/",
     "height": 696
    },
    "id": "Ihu3xQhVaIB6",
    "outputId": "1ddff7a6-a1c9-441e-cb0f-1f1aa68c193e"
   },
   "outputs": [],
   "source": [
    "# Racket-hiperparametrii\n",
    "# Pregătiți seturile de date\n",
    "racket_train_x_prep, racket_train_y_prep, racket_test_x_prep, racket_test_y_prep = prepare_data(\n",
    "    racket_train_x, racket_train_y, racket_test_x, racket_test_y, new_length=100\n",
    ")\n",
    "\n",
    "# Definiți hiper-parametrii pentru XGBClassifier\n",
    "param_grid = {\n",
    "    \"n_estimators\": [50, 100, 200],\n",
    "    \"max_depth\": [3, 6, 10],\n",
    "    \"learning_rate\": [0.01, 0.1, 0.2],\n",
    "}\n",
    "\n",
    "# Creați o instanță a XGBClassifier\n",
    "xgb_clf = XGBClassifier(random_state=42)\n",
    "\n",
    "# Creați obiectul GridSearchCV\n",
    "grid_search = GridSearchCV(xgb_clf, param_grid, cv=5, scoring=\"accuracy\")\n",
    "\n",
    "# Potriviți obiectul GridSearchCV pe datele de antrenament\n",
    "grid_search.fit(racket_train_x_prep, racket_train_y_prep)\n",
    "\n",
    "# Găsiți cei mai buni parametri și scorul corespunzător\n",
    "best_params = grid_search.best_params_\n",
    "best_score = grid_search.best_score_\n",
    "\n",
    "print(f\"Best parameters: {best_params}\")\n",
    "print(f\"Best accuracy: {best_score}\")\n",
    "\n",
    "# Antrenați XGBClassifier cu cei mai buni parametri pe întregul set de antrenament\n",
    "xgb_clf_best = XGBClassifier(**best_params, random_state=42)\n",
    "xgb_clf_best.fit(racket_train_x_prep, racket_train_y_prep)\n",
    "\n",
    "# Evaluați modelul pe setul de testare\n",
    "test_preds_xgb = xgb_clf_best.predict(racket_test_x_prep)\n",
    "accuracy_xgb = accuracy_score(racket_test_y_prep, test_preds_xgb)\n",
    "report_xgb = classification_report(racket_test_y_prep, test_preds_xgb)\n",
    "\n",
    "print(f\"XGBClassifier Accuracy: {accuracy_xgb}\")\n",
    "print(\"XGBClassifier Classification Report:\")\n",
    "print(report_xgb)"
   ]
  },
  {
   "cell_type": "code",
   "execution_count": null,
   "metadata": {
    "colab": {
     "base_uri": "https://localhost:8080/"
    },
    "id": "Yk5iJC9y9pDC",
    "outputId": "10bd7979-3d24-4172-a6c9-36df49c51389"
   },
   "outputs": [],
   "source": [
    "# Mitbih\n",
    "# Antrenarea modelului XGBoost\n",
    "xgb_model_mitbih = xgb.XGBClassifier(random_state=42)\n",
    "xgb_model_mitbih.fit(mitbih_train_x, mitbih_train_y)\n",
    "\n",
    "# Evaluarea modelului pe setul de test\n",
    "mitbih_test_preds_xgb = xgb_model_mitbih.predict(mitbih_test_x)\n",
    "mitbih_accuracy_xgb = accuracy_score(mitbih_test_y, mitbih_test_preds_xgb)\n",
    "mitbih_report_xgb = classification_report(mitbih_test_y, mitbih_test_preds_xgb)\n",
    "\n",
    "print(f\"MITBIH XGBoost Accuracy: {mitbih_accuracy_xgb}\")\n",
    "print(\"MITBIH XGBoost Classification Report:\")\n",
    "print(mitbih_report_xgb)"
   ]
  },
  {
   "cell_type": "code",
   "execution_count": null,
   "metadata": {
    "colab": {
     "base_uri": "https://localhost:8080/",
     "height": 468
    },
    "id": "X_7sJWk79Qwk",
    "outputId": "7ce3dabe-65f4-4367-8531-bbb0229cc215"
   },
   "outputs": [],
   "source": [
    "# Mitbih-hiperparametrii\n",
    "# Definirea parametrilor pentru Grid Search\n",
    "param_grid = {\n",
    "    'n_estimators': [10, 50, 100, 200],\n",
    "    'max_depth': [3, 5, 10, 15],\n",
    "    'learning_rate': [0.01, 0.1, 0.2, 0.3]\n",
    "}\n",
    "\n",
    "# Crearea modelului XGBClassifier\n",
    "xgb_model = xgb.XGBClassifier(use_label_encoder=False, objective='multi:softmax', random_state=42, eval_metric='mlogloss', n_jobs=-1)\n",
    "\n",
    "# Crearea obiectului GridSearchCV\n",
    "grid_search = GridSearchCV(estimator=xgb_model, param_grid=param_grid, scoring=make_scorer(accuracy_score), cv=5, verbose=1, n_jobs=-1)\n",
    "\n",
    "# Antrenarea modelului folosind Grid Search\n",
    "grid_search.fit(mitbih_train_x, mitbih_train_y)\n",
    "\n",
    "# Afișarea celor mai buni hiper-parametri găsiți\n",
    "print(\"Cei mai buni hiper-parametri găsiți:\")\n",
    "print(grid_search.best_params_)\n",
    "\n",
    "# Evaluarea modelului pe setul de test\n",
    "best_xgb = grid_search.best_estimator_\n",
    "predictions = best_xgb.predict(mitbih_test_x)\n",
    "accuracy = accuracy_score(mitbih_test_y, predictions)\n",
    "\n",
    "print(\"Acuratețea modelului pe setul de test:\", accuracy)"
   ]
  },
  {
   "cell_type": "code",
   "execution_count": null,
   "metadata": {
    "colab": {
     "base_uri": "https://localhost:8080/"
    },
    "id": "h1XGmYKW-uOC",
    "outputId": "65679f59-2ea8-447e-d382-e1bf8f028646"
   },
   "outputs": [],
   "source": [
    "# Ptdbd\n",
    "# Antrenarea modelului XGBoost\n",
    "xgb_model_ptbdb = xgb.XGBClassifier(random_state=42)\n",
    "xgb_model_ptbdb.fit(x_pdb_train, y_pdb_train)\n",
    "\n",
    "# Evaluarea modelului pe setul de test\n",
    "ptbdb_test_preds_xgb = xgb_model_ptbdb.predict(x_pdb_test)\n",
    "ptbdb_accuracy_xgb = accuracy_score(y_pdb_test, ptbdb_test_preds_xgb)\n",
    "ptbdb_report_xgb = classification_report(y_pdb_test, ptbdb_test_preds_xgb)\n",
    "\n",
    "print(f\"PTBDB XGBoost Accuracy: {ptbdb_accuracy_xgb}\")\n",
    "print(\"PTBDB XGBoost Classification Report:\")\n",
    "print(ptbdb_report_xgb)"
   ]
  },
  {
   "cell_type": "markdown",
   "metadata": {
    "id": "uLHvrKlk-80Y"
   },
   "source": [
    "SVM "
   ]
  },
  {
   "cell_type": "code",
   "execution_count": null,
   "metadata": {
    "colab": {
     "base_uri": "https://localhost:8080/"
    },
    "id": "Rxy1jq3H-9kL",
    "outputId": "797c1c5f-e717-4358-c021-101415458030"
   },
   "outputs": [],
   "source": [
    "# Racket\n",
    "# Pregătirea setului de date\n",
    "train_x, train_y, test_x, test_y = prepare_data(racket_train_x, racket_train_y, racket_test_x, racket_test_y, new_length=100)\n",
    "\n",
    "# Antrenarea modelului SVM\n",
    "svm_model = SVC(random_state=42)\n",
    "svm_model.fit(train_x, train_y)\n",
    "\n",
    "# Evaluarea modelului pe setul de test\n",
    "test_preds_svm = svm_model.predict(test_x)\n",
    "accuracy_svm = accuracy_score(test_y, test_preds_svm)\n",
    "report_svm = classification_report(test_y, test_preds_svm)\n",
    "\n",
    "print(f\"SVM Accuracy: {accuracy_svm}\")\n",
    "print(\"SVM Classification Report:\")\n",
    "print(report_svm)"
   ]
  },
  {
   "cell_type": "code",
   "execution_count": null,
   "metadata": {
    "colab": {
     "base_uri": "https://localhost:8080/"
    },
    "id": "ijsfP9DaMHjU",
    "outputId": "3e50a186-4dd4-4024-d29a-eec102794524"
   },
   "outputs": [],
   "source": [
    "# Racket-hiperparametrii\n",
    "# Pregătirea setului de date\n",
    "train_x, train_y, test_x, test_y = prepare_data(racket_train_x, racket_train_y, racket_test_x, racket_test_y, new_length=100)\n",
    "\n",
    "# Definirea hiper-parametrilor pentru SVM\n",
    "param_grid_svm = {\n",
    "    'kernel': ['linear', 'poly', 'rbf', 'sigmoid'],\n",
    "    'C': [0.1, 1, 10, 100]\n",
    "}\n",
    "\n",
    "# Crearea modelului SVM\n",
    "svm_model = SVC(random_state=42)\n",
    "\n",
    "# Grid Search cu Cross Validation pentru a găsi cei mai buni hiper-parametri\n",
    "grid_search_svm = GridSearchCV(svm_model, param_grid_svm, cv=5, scoring='accuracy', n_jobs=-1)\n",
    "grid_search_svm.fit(train_x, train_y)\n",
    "\n",
    "# Afișarea celor mai buni hiper-parametri găsiți\n",
    "print(\"Cei mai buni hiper-parametri pentru SVM (RacketSports):\")\n",
    "print(grid_search_svm.best_params_)\n",
    "\n",
    "# Evaluarea modelului cu cei mai buni hiper-parametri pe setul de test\n",
    "best_svm_model = grid_search_svm.best_estimator_\n",
    "test_preds_best_svm = best_svm_model.predict(test_x)\n",
    "accuracy_best_svm = accuracy_score(test_y, test_preds_best_svm)\n",
    "report_best_svm = classification_report(test_y, test_preds_best_svm)\n",
    "\n",
    "print(f\"Accuracy cu cei mai buni hiper-parametri SVM (RacketSports): {accuracy_best_svm}\")\n",
    "print(\"Classification Report cu cei mai buni hiper-parametri SVM (RacketSports):\")\n",
    "print(report_best_svm)"
   ]
  },
  {
   "cell_type": "code",
   "execution_count": null,
   "metadata": {
    "colab": {
     "base_uri": "https://localhost:8080/"
    },
    "id": "Aq695UjxC9vp",
    "outputId": "d5e4a845-f588-4a75-e134-7dc140c742ca"
   },
   "outputs": [],
   "source": [
    "# Mitbih\n",
    "# Pregătirea și standardizarea setului de date\n",
    "scaler = StandardScaler()\n",
    "mitbih_train_x_std = scaler.fit_transform(mitbih_train_x)\n",
    "mitbih_test_x_std = scaler.transform(mitbih_test_x)\n",
    "\n",
    "# Antrenarea modelului SVM\n",
    "svm_model_mitbih = SVC(random_state=42)\n",
    "svm_model_mitbih.fit(mitbih_train_x_std, mitbih_train_y)\n",
    "\n",
    "# Evaluarea modelului pe setul de test\n",
    "test_preds_svm_mitbih = svm_model_mitbih.predict(mitbih_test_x_std)\n",
    "accuracy_svm_mitbih = accuracy_score(mitbih_test_y, test_preds_svm_mitbih)\n",
    "report_svm_mitbih = classification_report(mitbih_test_y, test_preds_svm_mitbih)\n",
    "\n",
    "print(f\"SVM Accuracy (Mitbih): {accuracy_svm_mitbih}\")\n",
    "print(\"SVM Classification Report (Mitbih):\")\n",
    "print(report_svm_mitbih)"
   ]
  },
  {
   "cell_type": "code",
   "execution_count": null,
   "metadata": {
    "colab": {
     "base_uri": "https://localhost:8080/",
     "height": 381
    },
    "id": "xvP1kGTjHkUO",
    "outputId": "d1e5e037-daa3-4b86-b621-8c7d47ada516"
   },
   "outputs": [],
   "source": [
    "# Mitbih-hiperparametrii\n",
    "# Efectuarea standardizării datelor\n",
    "scaler = StandardScaler()\n",
    "mitbih_train_x_std = scaler.fit_transform(mitbih_train_x)\n",
    "mitbih_test_x_std = scaler.transform(mitbih_test_x)\n",
    "\n",
    "# Definirea hiper-parametrilor pentru SVM\n",
    "param_grid_svm = {\n",
    "    'kernel': ['linear', 'poly', 'rbf', 'sigmoid'],\n",
    "    'C': [0.1, 1, 10, 100]\n",
    "}\n",
    "\n",
    "# Crearea modelului SVM\n",
    "svm_model = SVC(random_state=42)\n",
    "\n",
    "# Grid Search cu Cross Validation pentru a găsi cei mai buni hiper-parametri\n",
    "grid_search_svm = GridSearchCV(svm_model, param_grid_svm, cv=5, scoring='accuracy', n_jobs=-1)\n",
    "grid_search_svm.fit(mitbih_train_x_std, mitbih_train_y)\n",
    "\n",
    "# Afișarea celor mai buni hiper-parametri găsiți\n",
    "print(\"Cei mai buni hiper-parametri pentru SVM (Mitbih):\")\n",
    "print(grid_search_svm.best_params_)\n",
    "\n",
    "# Evaluarea modelului cu cei mai buni hiper-parametri pe setul de test\n",
    "best_svm_model = grid_search_svm.best_estimator_\n",
    "test_preds_best_svm = best_svm_model.predict(mitbih_test_x_std)\n",
    "accuracy_best_svm = accuracy_score(mitbih_test_y, test_preds_best_svm)\n",
    "report_best_svm = classification_report(mitbih_test_y, test_preds_best_svm)\n",
    "\n",
    "print(f\"Accuracy cu cei mai buni hiper-parametri SVM (Mitbih): {accuracy_best_svm}\")\n",
    "print(\"Classification Report cu cei mai buni hiper-parametri SVM (Mitbih):\")\n",
    "print(report_best_svm)"
   ]
  },
  {
   "cell_type": "code",
   "execution_count": null,
   "metadata": {
    "colab": {
     "base_uri": "https://localhost:8080/"
    },
    "id": "c_zfbpeRDxt0",
    "outputId": "5dedbadb-c359-4249-9bf4-15effaa595d0"
   },
   "outputs": [],
   "source": [
    "# Ptdbd\n",
    "# Pregătirea și standardizarea setului de date\n",
    "scaler = StandardScaler()\n",
    "x_pdb_train_std = scaler.fit_transform(x_pdb_train)\n",
    "x_pdb_test_std = scaler.transform(x_pdb_test)\n",
    "\n",
    "# Antrenarea modelului SVM\n",
    "svm_model_pdb = SVC(random_state=42)\n",
    "svm_model_pdb.fit(x_pdb_train_std, y_pdb_train)\n",
    "\n",
    "# Evaluarea modelului pe setul de test\n",
    "test_preds_svm_pdb = svm_model_pdb.predict(x_pdb_test_std)\n",
    "accuracy_svm_pdb = accuracy_score(y_pdb_test, test_preds_svm_pdb)\n",
    "report_svm_pdb = classification_report(y_pdb_test, test_preds_svm_pdb)\n",
    "\n",
    "print(f\"SVM Accuracy (Ptbdb): {accuracy_svm_pdb}\")\n",
    "print(\"SVM Classification Report (Ptbdb):\")\n",
    "print(report_svm_pdb)"
   ]
  },
  {
   "cell_type": "code",
   "execution_count": null,
   "metadata": {
    "colab": {
     "base_uri": "https://localhost:8080/"
    },
    "id": "PlDQJHS2GcdI",
    "outputId": "746120a4-5013-44d2-97db-49724167af6e"
   },
   "outputs": [],
   "source": [
    "# Ptdbd-hiperparametrii\n",
    "# Definirea hiper-parametrilor pentru SVM\n",
    "param_grid_svm = {\n",
    "    'kernel': ['linear', 'poly', 'rbf', 'sigmoid'],\n",
    "    'C': [0.1, 1, 10, 100]\n",
    "}\n",
    "\n",
    "# Crearea modelului SVM\n",
    "svm_model = SVC(random_state=42)\n",
    "\n",
    "# Grid Search cu Cross Validation pentru a găsi cei mai buni hiper-parametri\n",
    "grid_search_svm = GridSearchCV(svm_model, param_grid_svm, cv=5, scoring='accuracy', n_jobs=-1)\n",
    "grid_search_svm.fit(x_pdb_train_std, y_pdb_train)\n",
    "\n",
    "# Afișarea celor mai buni hiper-parametri găsiți\n",
    "print(\"Cei mai buni hiper-parametri pentru SVM (Ptbdb):\")\n",
    "print(grid_search_svm.best_params_)\n",
    "\n",
    "# Evaluarea modelului cu cei mai buni hiper-parametri pe setul de test\n",
    "best_svm_model = grid_search_svm.best_estimator_\n",
    "test_preds_best_svm = best_svm_model.predict(x_pdb_test_std)\n",
    "accuracy_best_svm = accuracy_score(y_pdb_test, test_preds_best_svm)\n",
    "report_best_svm = classification_report(y_pdb_test, test_preds_best_svm)\n",
    "\n",
    "print(f\"Accuracy cu cei mai buni hiper-parametri SVM (Ptbdb): {accuracy_best_svm}\")\n",
    "print(\"Classification Report cu cei mai buni hiper-parametri SVM (Ptbdb):\")\n",
    "print(report_best_svm)"
   ]
  },
  {
   "cell_type": "markdown",
   "metadata": {
    "id": "_CgOZowMDExL"
   },
   "source": []
  },
  {
   "cell_type": "code",
   "execution_count": null,
   "metadata": {
    "colab": {
     "base_uri": "https://localhost:8080/"
    },
    "id": "iaoqpHUCDE_i",
    "outputId": "b310a5bc-f0ac-40dc-a7b0-ca68ee1529fc",
    "tags": []
   },
   "outputs": [],
   "source": [
    "def extract_features(window):\n",
    "    features = {}\n",
    "    \n",
    "    window = np.array(window).T  # Transpuneți fereastra înainte de a extrage axele\n",
    "\n",
    "    # Atribute statistice pentru fiecare axă\n",
    "    for i, axis in enumerate(['x', 'y', 'z']):\n",
    "        axis_data = window[i]\n",
    "        prefix = f'axis_{i}_'\n",
    "        \n",
    "        features[prefix + 'mean'] = np.mean(axis_data)\n",
    "        features[prefix + 'std'] = np.std(axis_data)\n",
    "        features[prefix + 'mad'] = np.mean(np.abs(axis_data - np.mean(axis_data)))\n",
    "        features[prefix + 'min'] = np.min(axis_data)\n",
    "        features[prefix + 'max'] = np.max(axis_data)\n",
    "        features[prefix + 'range'] = np.max(axis_data) - np.min(axis_data)\n",
    "        features[prefix + 'median'] = np.median(axis_data)\n",
    "        features[prefix + 'mad_from_median'] = np.mean(np.abs(axis_data - np.median(axis_data)))\n",
    "        features[prefix + 'iqr'] = iqr(axis_data)\n",
    "        features[prefix + 'num_negative'] = np.sum(axis_data < 0)\n",
    "        features[prefix + 'num_positive'] = np.sum(axis_data > 0)\n",
    "        features[prefix + 'num_above_mean'] = np.sum(axis_data > np.mean(axis_data))\n",
    "        features[prefix + 'skewness'] = skew(axis_data)\n",
    "        features[prefix + 'kurtosis'] = kurtosis(axis_data)\n",
    "        \n",
    "    # Atribute în regim de frecvență pentru fiecare axă\n",
    "    for i, axis in enumerate(['x', 'y', 'z']):\n",
    "        try:\n",
    "            axis_data = window[i].astype(np.float64)  # Convertiți în float64 înainte de a aplica transformata Fourier\n",
    "            freq_domain = np.fft.rfft(axis_data)\n",
    "            prefix = f'freq_axis_{i}_'\n",
    "            \n",
    "            features[prefix + 'mean'] = np.mean(freq_domain)\n",
    "            features[prefix + 'std'] = np.std(freq_domain)\n",
    "            features[prefix + 'mad'] = np.mean(np.abs(freq_domain - np.mean(freq_domain)))\n",
    "            features[prefix + 'min'] = np.min(freq_domain)\n",
    "            features[prefix + 'max'] = np.max(freq_domain)\n",
    "            features[prefix + 'range'] = np.max(freq_domain) - np.min(freq_domain)\n",
    "            features[prefix + 'median'] = np.median(freq_domain)\n",
    "            features[prefix + 'mad_from_median'] = np.mean(np.abs(freq_domain - np.median(freq_domain)))\n",
    "            features[prefix + 'iqr'] = iqr(freq_domain)\n",
    "            features[prefix + 'num_negative'] = np.sum(freq_domain < 0)\n",
    "            features[prefix + 'num_positive'] = np.sum(freq_domain > 0)\n",
    "            features[prefix + 'num_above_mean'] = np.sum(freq_domain > np.mean(freq_domain))\n",
    "            features[prefix + 'skewness'] = skew(freq_domain)\n",
    "            features[prefix + 'kurtosis'] = kurtosis(freq_domain)\n",
    "\n",
    "        except Exception as e:\n",
    "            print(f\"Error encountered while processing axis {i}: {e}\")\n",
    "\n",
    "    return features\n",
    "\n",
    "# Alegeți o fereastră din setul de date de antrenament pentru a testa funcția extract_features\n",
    "sample_window = racket_train_x[0]\n",
    "\n",
    "# Apelați funcția extract_features și afișați rezultatele\n",
    "extracted_features = extract_features(sample_window)\n",
    "print(extracted_features)"
   ]
  },
  {
   "cell_type": "code",
   "execution_count": null,
   "metadata": {},
   "outputs": [],
   "source": []
  }
 ],
 "metadata": {
  "colab": {
   "provenance": []
  },
  "kernelspec": {
   "display_name": "Python 3 (ipykernel)",
   "language": "python",
   "name": "python3"
  },
  "language_info": {
   "codemirror_mode": {
    "name": "ipython",
    "version": 3
   },
   "file_extension": ".py",
   "mimetype": "text/x-python",
   "name": "python",
   "nbconvert_exporter": "python",
   "pygments_lexer": "ipython3",
   "version": "3.10.8"
  }
 },
 "nbformat": 4,
 "nbformat_minor": 4
}
